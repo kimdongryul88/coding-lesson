{
  "nbformat": 4,
  "nbformat_minor": 0,
  "metadata": {
    "colab": {
      "provenance": []
    },
    "kernelspec": {
      "name": "python3",
      "display_name": "Python 3"
    },
    "language_info": {
      "name": "python"
    }
  },
  "cells": [
    {
      "cell_type": "code",
      "execution_count": null,
      "metadata": {
        "colab": {
          "base_uri": "https://localhost:8080/"
        },
        "id": "jzgF58sKOvYf",
        "outputId": "71e9c6e3-d5a0-44b2-fd36-e55eb4fd0f6e"
      },
      "outputs": [
        {
          "output_type": "stream",
          "name": "stdout",
          "text": [
            "[10, 20, 30, 40, 50, 60]\n"
          ]
        }
      ],
      "source": [
        "#리스트 연산 연습\n",
        "numbers = [10, 20, 30]+[40, 50, 60]\n",
        "print(numbers)"
      ]
    },
    {
      "cell_type": "code",
      "source": [
        "word = input(\"문자열을 입력하세요 : \")\n",
        "for i in range(len(word)):\n",
        "    print(word[:i])\n",
        "for i in range(len(word)):\n",
        "    print(word[:len(word)-i])"
      ],
      "metadata": {
        "colab": {
          "base_uri": "https://localhost:8080/"
        },
        "id": "7Mxc-UbnBuVd",
        "outputId": "f05c117e-e9e6-48ab-876e-d8d2fd9a83ef"
      },
      "execution_count": null,
      "outputs": [
        {
          "output_type": "stream",
          "name": "stdout",
          "text": [
            "문자열을 입력하세요 : python\n",
            "\n",
            "p\n",
            "py\n",
            "pyt\n",
            "pyth\n",
            "pytho\n",
            "python\n",
            "pytho\n",
            "pyth\n",
            "pyt\n",
            "py\n",
            "p\n"
          ]
        }
      ]
    },
    {
      "cell_type": "code",
      "source": [
        "a = \"worldstar\" #마치 리스트처럼 문자열에 대해서도 똑같은 현상이 일어남.\n",
        "len(a)"
      ],
      "metadata": {
        "colab": {
          "base_uri": "https://localhost:8080/"
        },
        "id": "Ks56R2uTB_AA",
        "outputId": "3ff9523f-00a6-4f1f-a14f-3a724e287792"
      },
      "execution_count": null,
      "outputs": [
        {
          "output_type": "execute_result",
          "data": {
            "text/plain": [
              "9"
            ]
          },
          "metadata": {},
          "execution_count": 3
        }
      ]
    },
    {
      "cell_type": "code",
      "source": [
        "#넘파이 배열과 리스트 차이\n",
        "import numpy as np\n",
        "\n",
        "array1 = np.array([10, 20, 30])\n",
        "array2 = np.array([40, 50, 60])\n",
        "array3 = array1 + array2\n",
        "array3"
      ],
      "metadata": {
        "colab": {
          "base_uri": "https://localhost:8080/"
        },
        "id": "Ik8Fuz_6PQS5",
        "outputId": "feb77e7a-73fc-4aaa-cac3-6f6999c9fe58"
      },
      "execution_count": null,
      "outputs": [
        {
          "output_type": "execute_result",
          "data": {
            "text/plain": [
              "array([50, 70, 90])"
            ]
          },
          "metadata": {},
          "execution_count": 2
        }
      ]
    },
    {
      "cell_type": "code",
      "source": [
        "#리스트에 곱은 단순히 연속 나열에 불과하다!\n",
        "mystery = [1, 2, 3] * 3\n",
        "mystery"
      ],
      "metadata": {
        "colab": {
          "base_uri": "https://localhost:8080/"
        },
        "id": "i9sZs_eYPwLU",
        "outputId": "61cde5e3-78b4-4a25-cd1a-8c95066a2855"
      },
      "execution_count": null,
      "outputs": [
        {
          "output_type": "execute_result",
          "data": {
            "text/plain": [
              "[1, 2, 3, 1, 2, 3, 1, 2, 3]"
            ]
          },
          "metadata": {},
          "execution_count": 3
        }
      ]
    },
    {
      "cell_type": "code",
      "source": [
        "#리스트 함축 마치 집합의 조건제시법 같은 느낌\n",
        "list1 = [x**2 for x in [1,2,3,4,5]]\n",
        "list1"
      ],
      "metadata": {
        "colab": {
          "base_uri": "https://localhost:8080/"
        },
        "id": "JokcQFVQP9lu",
        "outputId": "c7228d06-b62e-48d0-c0f7-7a10e6b025db"
      },
      "execution_count": null,
      "outputs": [
        {
          "output_type": "execute_result",
          "data": {
            "text/plain": [
              "[1, 4, 9, 16, 25]"
            ]
          },
          "metadata": {},
          "execution_count": 4
        }
      ]
    },
    {
      "cell_type": "code",
      "source": [
        "a = [x for x in range(1,11)]\n",
        "a"
      ],
      "metadata": {
        "colab": {
          "base_uri": "https://localhost:8080/"
        },
        "id": "I1x7irVlStaI",
        "outputId": "baf635c5-57a2-4579-de72-551a38247894"
      },
      "execution_count": null,
      "outputs": [
        {
          "output_type": "execute_result",
          "data": {
            "text/plain": [
              "[1, 2, 3, 4, 5, 6, 7, 8, 9, 10]"
            ]
          },
          "metadata": {},
          "execution_count": 6
        }
      ]
    },
    {
      "cell_type": "code",
      "source": [
        "#리스트 조건 함축\n",
        "list2 = [x for x in range(10) if x % 2 == 0 ]\n",
        "list2"
      ],
      "metadata": {
        "colab": {
          "base_uri": "https://localhost:8080/"
        },
        "id": "d5VAycVjTRyB",
        "outputId": "2fc647c2-8d99-4e25-ef66-fccdd7693454"
      },
      "execution_count": null,
      "outputs": [
        {
          "output_type": "execute_result",
          "data": {
            "text/plain": [
              "[0, 2, 4, 6, 8]"
            ]
          },
          "metadata": {},
          "execution_count": 7
        }
      ]
    },
    {
      "cell_type": "code",
      "source": [
        "#리스트 중에 숫자만 추출해보기\n",
        "s = [ 'hello', '12345', 'world', '67890']\n",
        "numbers = [x for x in s if x.isdigit()]\n",
        "print(numbers)"
      ],
      "metadata": {
        "colab": {
          "base_uri": "https://localhost:8080/"
        },
        "id": "Q-daN7fdUXDu",
        "outputId": "c0096bb8-2027-41b9-a7fa-f7d175343c53"
      },
      "execution_count": null,
      "outputs": [
        {
          "output_type": "stream",
          "name": "stdout",
          "text": [
            "['12345', '67890']\n"
          ]
        }
      ]
    },
    {
      "cell_type": "code",
      "source": [
        "#질문에 대한 숫자 답을 리스트로 만들어 주기\n",
        "[int(x) for x in input(\"정수를 여러 개 입력하세요 : \").split()]"
      ],
      "metadata": {
        "colab": {
          "base_uri": "https://localhost:8080/"
        },
        "id": "DNlMog0OWecC",
        "outputId": "6e02a27c-6491-43b3-fc7d-eaed3f16e53c"
      },
      "execution_count": 1,
      "outputs": [
        {
          "name": "stdout",
          "output_type": "stream",
          "text": [
            "정수를 여러 개 입력하세요 : 400 5000 600\n"
          ]
        },
        {
          "output_type": "execute_result",
          "data": {
            "text/plain": [
              "[400, 5000, 600]"
            ]
          },
          "metadata": {},
          "execution_count": 1
        }
      ]
    },
    {
      "cell_type": "code",
      "source": [
        "[int(x) for x in input(\"정수를 여러 개 입력하세요 : \").split() if x.isdigit()]"
      ],
      "metadata": {
        "colab": {
          "base_uri": "https://localhost:8080/"
        },
        "id": "GXKET2k_XLcH",
        "outputId": "0b9d07c6-816e-4811-9edc-a51cdc818bfd"
      },
      "execution_count": null,
      "outputs": [
        {
          "name": "stdout",
          "output_type": "stream",
          "text": [
            "정수를 여러 개 입력하세요 : 100 tlqkf 200\n"
          ]
        },
        {
          "output_type": "execute_result",
          "data": {
            "text/plain": [
              "[100, 200]"
            ]
          },
          "metadata": {},
          "execution_count": 11
        }
      ]
    },
    {
      "cell_type": "code",
      "source": [
        "[(x, 2*y) for x in [1,2,3] for y in [4,5,6]]"
      ],
      "metadata": {
        "colab": {
          "base_uri": "https://localhost:8080/"
        },
        "id": "_gmSfGoqXoYG",
        "outputId": "419da519-48f3-4a78-c017-bffacb26fed1"
      },
      "execution_count": null,
      "outputs": [
        {
          "output_type": "execute_result",
          "data": {
            "text/plain": [
              "[(1, 8), (1, 10), (1, 12), (2, 8), (2, 10), (2, 12), (3, 8), (3, 10), (3, 12)]"
            ]
          },
          "metadata": {},
          "execution_count": 13
        }
      ]
    },
    {
      "cell_type": "code",
      "source": [
        "#7장 심화문제 풀이\n",
        "#7.1\n",
        "num_list = [100, 200, 300, 400, 500, 600, 700, 800]\n",
        "high = 6\n",
        "low = 3\n",
        "num_list[high]"
      ],
      "metadata": {
        "colab": {
          "base_uri": "https://localhost:8080/"
        },
        "id": "3pPmIPzGX8rz",
        "outputId": "ecfa8d7e-0938-4ee3-bc5f-2092f2d6bf25"
      },
      "execution_count": null,
      "outputs": [
        {
          "output_type": "execute_result",
          "data": {
            "text/plain": [
              "700"
            ]
          },
          "metadata": {},
          "execution_count": 15
        }
      ]
    },
    {
      "cell_type": "code",
      "source": [
        "num_list[high - 2]"
      ],
      "metadata": {
        "colab": {
          "base_uri": "https://localhost:8080/"
        },
        "id": "NsStGff8dZ1C",
        "outputId": "45b72c4c-db1e-43ca-bffe-89e19cb358ec"
      },
      "execution_count": null,
      "outputs": [
        {
          "output_type": "execute_result",
          "data": {
            "text/plain": [
              "500"
            ]
          },
          "metadata": {},
          "execution_count": 16
        }
      ]
    },
    {
      "cell_type": "code",
      "source": [
        "num_list[high - low]"
      ],
      "metadata": {
        "colab": {
          "base_uri": "https://localhost:8080/"
        },
        "id": "U83y5uhydgG7",
        "outputId": "176a718c-3921-4eed-9641-c82394182f98"
      },
      "execution_count": null,
      "outputs": [
        {
          "output_type": "execute_result",
          "data": {
            "text/plain": [
              "400"
            ]
          },
          "metadata": {},
          "execution_count": 17
        }
      ]
    },
    {
      "cell_type": "code",
      "source": [
        "num_list[low - high]"
      ],
      "metadata": {
        "colab": {
          "base_uri": "https://localhost:8080/"
        },
        "id": "H25Q7uyFdmki",
        "outputId": "6c3c1658-be70-422d-dcbf-b6a3f3630dfe"
      },
      "execution_count": null,
      "outputs": [
        {
          "output_type": "execute_result",
          "data": {
            "text/plain": [
              "600"
            ]
          },
          "metadata": {},
          "execution_count": 18
        }
      ]
    },
    {
      "cell_type": "code",
      "source": [
        "num_list[-1]"
      ],
      "metadata": {
        "colab": {
          "base_uri": "https://localhost:8080/"
        },
        "id": "1Z5xvZKLdtDp",
        "outputId": "a66c034b-9583-4912-9525-d7df66a5134c"
      },
      "execution_count": null,
      "outputs": [
        {
          "output_type": "execute_result",
          "data": {
            "text/plain": [
              "800"
            ]
          },
          "metadata": {},
          "execution_count": 19
        }
      ]
    },
    {
      "cell_type": "code",
      "source": [
        "num_list[2 * 3]"
      ],
      "metadata": {
        "colab": {
          "base_uri": "https://localhost:8080/"
        },
        "id": "ORkQoeYrdv_3",
        "outputId": "259d67a2-3f27-4f28-95e2-b1caefcbdcf7"
      },
      "execution_count": null,
      "outputs": [
        {
          "output_type": "execute_result",
          "data": {
            "text/plain": [
              "700"
            ]
          },
          "metadata": {},
          "execution_count": 20
        }
      ]
    },
    {
      "cell_type": "code",
      "source": [
        "num_list[2] * 3"
      ],
      "metadata": {
        "colab": {
          "base_uri": "https://localhost:8080/"
        },
        "id": "1HQlafjBd3LX",
        "outputId": "5ae53628-449f-4797-a3ae-99d4a622fb27"
      },
      "execution_count": null,
      "outputs": [
        {
          "output_type": "execute_result",
          "data": {
            "text/plain": [
              "900"
            ]
          },
          "metadata": {},
          "execution_count": 21
        }
      ]
    },
    {
      "cell_type": "code",
      "source": [
        "num_list[5 % 4]"
      ],
      "metadata": {
        "colab": {
          "base_uri": "https://localhost:8080/"
        },
        "id": "YouZQL4Kd9np",
        "outputId": "2907b22c-f752-43d8-a9b0-db0f6ca1dedb"
      },
      "execution_count": null,
      "outputs": [
        {
          "output_type": "execute_result",
          "data": {
            "text/plain": [
              "200"
            ]
          },
          "metadata": {},
          "execution_count": 22
        }
      ]
    },
    {
      "cell_type": "code",
      "source": [
        "len(num_list)"
      ],
      "metadata": {
        "colab": {
          "base_uri": "https://localhost:8080/"
        },
        "id": "pwKbnKedeEN5",
        "outputId": "f1ef9810-e02c-4590-d060-cd00feaf60f8"
      },
      "execution_count": null,
      "outputs": [
        {
          "output_type": "execute_result",
          "data": {
            "text/plain": [
              "8"
            ]
          },
          "metadata": {},
          "execution_count": 23
        }
      ]
    },
    {
      "cell_type": "code",
      "source": [
        "min(num_list)"
      ],
      "metadata": {
        "colab": {
          "base_uri": "https://localhost:8080/"
        },
        "id": "NcAXfPlbeH4i",
        "outputId": "d803a360-c716-4261-d47c-927f34c2b0fa"
      },
      "execution_count": null,
      "outputs": [
        {
          "output_type": "execute_result",
          "data": {
            "text/plain": [
              "100"
            ]
          },
          "metadata": {},
          "execution_count": 24
        }
      ]
    },
    {
      "cell_type": "code",
      "source": [
        "max(num_list)"
      ],
      "metadata": {
        "colab": {
          "base_uri": "https://localhost:8080/"
        },
        "id": "hC41QZegeK_m",
        "outputId": "a91c4421-a090-48d8-b2fb-14fee81d69f0"
      },
      "execution_count": null,
      "outputs": [
        {
          "output_type": "execute_result",
          "data": {
            "text/plain": [
              "800"
            ]
          },
          "metadata": {},
          "execution_count": 25
        }
      ]
    },
    {
      "cell_type": "code",
      "source": [
        "num_list[:3]"
      ],
      "metadata": {
        "colab": {
          "base_uri": "https://localhost:8080/"
        },
        "id": "p2EfXKj9eOEH",
        "outputId": "d1198c9d-368f-4aaf-a978-2d28ced27d20"
      },
      "execution_count": null,
      "outputs": [
        {
          "output_type": "execute_result",
          "data": {
            "text/plain": [
              "[100, 200, 300]"
            ]
          },
          "metadata": {},
          "execution_count": 26
        }
      ]
    },
    {
      "cell_type": "code",
      "source": [
        "num_list[1:5]"
      ],
      "metadata": {
        "colab": {
          "base_uri": "https://localhost:8080/"
        },
        "id": "rb14yo9meW1n",
        "outputId": "dc8636ae-4efe-4cf7-80d6-9e9321c158b9"
      },
      "execution_count": null,
      "outputs": [
        {
          "output_type": "execute_result",
          "data": {
            "text/plain": [
              "[200, 300, 400, 500]"
            ]
          },
          "metadata": {},
          "execution_count": 27
        }
      ]
    },
    {
      "cell_type": "code",
      "source": [
        "num_list[-1:-5:-1]"
      ],
      "metadata": {
        "colab": {
          "base_uri": "https://localhost:8080/"
        },
        "id": "pdqXL-6beciU",
        "outputId": "c41c0999-d196-4c19-8f84-f69c54294766"
      },
      "execution_count": null,
      "outputs": [
        {
          "output_type": "execute_result",
          "data": {
            "text/plain": [
              "[800, 700, 600, 500]"
            ]
          },
          "metadata": {},
          "execution_count": 28
        }
      ]
    },
    {
      "cell_type": "code",
      "source": [
        "num_list[-5:-1:1]"
      ],
      "metadata": {
        "colab": {
          "base_uri": "https://localhost:8080/"
        },
        "id": "YXfiasGneihZ",
        "outputId": "290de74c-bbd3-4906-d491-842dedf295ab"
      },
      "execution_count": null,
      "outputs": [
        {
          "output_type": "execute_result",
          "data": {
            "text/plain": [
              "[400, 500, 600, 700]"
            ]
          },
          "metadata": {},
          "execution_count": 30
        }
      ]
    },
    {
      "cell_type": "code",
      "source": [
        "list1 = [3, 5, 7]\n",
        "list2 = [2, 3, 4, 5, 6]\n",
        "for x in list1:\n",
        "    for y in list2:\n",
        "        print(x ,\"*\", y ,'=', x*y)"
      ],
      "metadata": {
        "colab": {
          "base_uri": "https://localhost:8080/"
        },
        "id": "UyilWW4cevJb",
        "outputId": "528885eb-053a-4748-c411-e88f5945d8ce"
      },
      "execution_count": null,
      "outputs": [
        {
          "output_type": "stream",
          "name": "stdout",
          "text": [
            "3 * 2 = 6\n",
            "3 * 3 = 9\n",
            "3 * 4 = 12\n",
            "3 * 5 = 15\n",
            "3 * 6 = 18\n",
            "5 * 2 = 10\n",
            "5 * 3 = 15\n",
            "5 * 4 = 20\n",
            "5 * 5 = 25\n",
            "5 * 6 = 30\n",
            "7 * 2 = 14\n",
            "7 * 3 = 21\n",
            "7 * 4 = 28\n",
            "7 * 5 = 35\n",
            "7 * 6 = 42\n"
          ]
        }
      ]
    },
    {
      "cell_type": "code",
      "source": [
        "#7.3\n",
        "list1 = ['i like', 'i love']\n",
        "list2 = [ 'pancakes.', 'kiwi juice.', 'espresso.']\n",
        "for x in list1:\n",
        "    for y in list2:\n",
        "        print(x , y )"
      ],
      "metadata": {
        "colab": {
          "base_uri": "https://localhost:8080/"
        },
        "id": "Fp0RdYwsfloN",
        "outputId": "c8d3df4b-d9ae-4605-d23b-7ef5b4cd025d"
      },
      "execution_count": null,
      "outputs": [
        {
          "output_type": "stream",
          "name": "stdout",
          "text": [
            "i like pancakes.\n",
            "i like kiwi juice.\n",
            "i like espresso.\n",
            "i love pancakes.\n",
            "i love kiwi juice.\n",
            "i love espresso.\n"
          ]
        }
      ]
    },
    {
      "cell_type": "code",
      "source": [
        "#7.5 리스트 함축 가능? 쌉가능\n",
        "list1 = ['A', 'B', 'C']\n",
        "list2 = [ '1', '2', ]\n",
        "list3 = []\n",
        "for x in list1:\n",
        "    for y in list2:\n",
        "        print(x + y )\n",
        "\n",
        "[ x+y for x in list1 for y in list2]\n"
      ],
      "metadata": {
        "colab": {
          "base_uri": "https://localhost:8080/"
        },
        "id": "Ldj5byQogJzg",
        "outputId": "b1847518-779f-4e0e-ec2b-91f53419913c"
      },
      "execution_count": 6,
      "outputs": [
        {
          "output_type": "stream",
          "name": "stdout",
          "text": [
            "A1\n",
            "A2\n",
            "B1\n",
            "B2\n",
            "C1\n",
            "C2\n"
          ]
        },
        {
          "output_type": "execute_result",
          "data": {
            "text/plain": [
              "['A1', 'A2', 'B1', 'B2', 'C1', 'C2']"
            ]
          },
          "metadata": {},
          "execution_count": 6
        }
      ]
    },
    {
      "cell_type": "code",
      "source": [
        "for x in range(len(list1)):\n",
        "  print(list1[x])"
      ],
      "metadata": {
        "id": "TJ132e8DkI1r",
        "colab": {
          "base_uri": "https://localhost:8080/"
        },
        "outputId": "66ff882d-fa2a-4c95-c3df-a4e6654ffb0d"
      },
      "execution_count": 8,
      "outputs": [
        {
          "output_type": "stream",
          "name": "stdout",
          "text": [
            "A\n",
            "B\n",
            "C\n"
          ]
        }
      ]
    },
    {
      "cell_type": "code",
      "source": [
        "#7.6 피라미드 패턴출력\n",
        "\n",
        "answer = input('문자열을 입력하세요 : ')\n",
        "\n",
        "for i in range(len(answer)):\n",
        "  print(answer[:i])\n",
        "for j in range(len(answer), 0, -1):\n",
        "  print(answer[:j])\n",
        "\n",
        "\n"
      ],
      "metadata": {
        "colab": {
          "base_uri": "https://localhost:8080/"
        },
        "id": "mRJjXBWkh2NI",
        "outputId": "0326863b-ddff-4baa-8179-614f6b576d54"
      },
      "execution_count": null,
      "outputs": [
        {
          "output_type": "stream",
          "name": "stdout",
          "text": [
            "문자열을 입력하세요 : python\n",
            "\n",
            "p\n",
            "py\n",
            "pyt\n",
            "pyth\n",
            "pytho\n",
            "python\n",
            "pytho\n",
            "pyth\n",
            "pyt\n",
            "py\n",
            "p\n"
          ]
        }
      ]
    },
    {
      "cell_type": "code",
      "source": [
        "fruit_list = ['banana', 'orange', 'kiwi', 'apple', 'melon']\n",
        "\n",
        "max = 0\n",
        "for i in fruit_list:\n",
        "  if len(i) > max:\n",
        "    max = len(i)\n",
        "\n",
        "max_fruit_list =[]\n",
        "\n",
        "for j in fruit_list:\n",
        "  if len(j) == max:\n",
        "    max_fruit_list.append(j)\n",
        "\n",
        "print( \"가장 길이가 긴 문자열 : \",  max_fruit_list )\n",
        "\n",
        "for k in fruit_list:\n",
        "  if k in max_fruit_list:\n",
        "    fruit_list.remove(k)\n",
        "\n",
        "print(\"fruit_list = \",fruit_list)"
      ],
      "metadata": {
        "colab": {
          "base_uri": "https://localhost:8080/"
        },
        "id": "_5gfIdx_CwFt",
        "outputId": "721cde1b-644a-4e63-e9dd-f87feaa25b19"
      },
      "execution_count": 10,
      "outputs": [
        {
          "output_type": "stream",
          "name": "stdout",
          "text": [
            "가장 길이가 긴 문자열 :  ['banana', 'orange']\n",
            "fruit_list =  ['orange', 'kiwi', 'apple', 'melon']\n"
          ]
        }
      ]
    },
    {
      "cell_type": "code",
      "source": [
        "fruit_list = ['banana', 'orange', 'kiwi', 'apple', 'melon']\n",
        "for x in fruit_list:\n",
        "    print( x, ': 문자열의 길이', len(x))"
      ],
      "metadata": {
        "colab": {
          "base_uri": "https://localhost:8080/"
        },
        "id": "LJKmh87VHTCX",
        "outputId": "947c14a8-c4e2-48d7-fdda-561c2f487ca3"
      },
      "execution_count": null,
      "outputs": [
        {
          "output_type": "stream",
          "name": "stdout",
          "text": [
            "banana : 문자열의 길이 6\n",
            "orange : 문자열의 길이 6\n",
            "kiwi : 문자열의 길이 4\n",
            "apple : 문자열의 길이 5\n",
            "melon : 문자열의 길이 5\n"
          ]
        }
      ]
    },
    {
      "cell_type": "code",
      "source": [
        "n = int(input(\"n을 입력하시오 : \"))\n",
        "list1 = [x for x in range(1,n+1)]\n",
        "print(\"n을 입력하시오 : \", n )\n",
        "print([x for x in list1])\n",
        "print([5+x for x in list1[::-1]])\n",
        "print([x+10 for x in list1])\n",
        "print([15+x for x in list1[::-1]])\n",
        "print([x+20 for x in list1])"
      ],
      "metadata": {
        "colab": {
          "base_uri": "https://localhost:8080/"
        },
        "id": "etMeaZXpHtVZ",
        "outputId": "73e9960a-1872-446e-d77e-da031b5fc3fc"
      },
      "execution_count": null,
      "outputs": [
        {
          "output_type": "stream",
          "name": "stdout",
          "text": [
            "n을 입력하시오 : 5\n",
            "n을 입력하시오 :  5\n",
            "[1, 2, 3, 4, 5]\n",
            "[10, 9, 8, 7, 6]\n",
            "[11, 12, 13, 14, 15]\n",
            "[20, 19, 18, 17, 16]\n",
            "[21, 22, 23, 24, 25]\n"
          ]
        }
      ]
    },
    {
      "cell_type": "code",
      "source": [
        "A = [\"commu\", 'boxok', 'deter', 'waycom','tttttt']\n",
        "B = [\"mummy\", 'xbox', 'detery', 'ycomget', 'tttttt']\n",
        "C = [ x+y x for in A y for in B ]"
      ],
      "metadata": {
        "colab": {
          "base_uri": "https://localhost:8080/",
          "height": 136
        },
        "id": "nPXCgGFhIrw1",
        "outputId": "8984df76-b062-4bbb-b17a-0de24a09979c"
      },
      "execution_count": null,
      "outputs": [
        {
          "output_type": "error",
          "ename": "SyntaxError",
          "evalue": "ignored",
          "traceback": [
            "\u001b[0;36m  File \u001b[0;32m\"<ipython-input-24-0f9429f1ed4f>\"\u001b[0;36m, line \u001b[0;32m3\u001b[0m\n\u001b[0;31m    C = [ x+y x for in A y for in B ]\u001b[0m\n\u001b[0m          ^\u001b[0m\n\u001b[0;31mSyntaxError\u001b[0m\u001b[0;31m:\u001b[0m invalid syntax. Perhaps you forgot a comma?\n"
          ]
        }
      ]
    },
    {
      "cell_type": "code",
      "source": [
        "\"ttttt\"+\"tttttt\""
      ],
      "metadata": {
        "colab": {
          "base_uri": "https://localhost:8080/",
          "height": 35
        },
        "id": "KVB_HYmWL8M2",
        "outputId": "9a602bc6-df25-4ce7-c6b3-0f84346ff7ee"
      },
      "execution_count": null,
      "outputs": [
        {
          "output_type": "execute_result",
          "data": {
            "text/plain": [
              "'ttttttttttt'"
            ],
            "application/vnd.google.colaboratory.intrinsic+json": {
              "type": "string"
            }
          },
          "metadata": {},
          "execution_count": 25
        }
      ]
    }
  ]
}